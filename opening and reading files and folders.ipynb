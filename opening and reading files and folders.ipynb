{
 "cells": [
  {
   "cell_type": "code",
   "execution_count": 1,
   "id": "7932f3c5",
   "metadata": {},
   "outputs": [
    {
     "data": {
      "text/plain": [
       "'F:\\\\data science\\\\python\\\\udemy\\\\advanced python modules'"
      ]
     },
     "execution_count": 1,
     "metadata": {},
     "output_type": "execute_result"
    }
   ],
   "source": [
    "pwd"
   ]
  },
  {
   "cell_type": "code",
   "execution_count": 2,
   "id": "5d29b239",
   "metadata": {},
   "outputs": [],
   "source": [
    "f=open(\"practice.txt\",\"w+\")"
   ]
  },
  {
   "cell_type": "code",
   "execution_count": 3,
   "id": "f074be24",
   "metadata": {},
   "outputs": [
    {
     "data": {
      "text/plain": [
       "17"
      ]
     },
     "execution_count": 3,
     "metadata": {},
     "output_type": "execute_result"
    }
   ],
   "source": [
    "f.write(\"this is only test\")"
   ]
  },
  {
   "cell_type": "code",
   "execution_count": 4,
   "id": "80f0f3a5",
   "metadata": {},
   "outputs": [],
   "source": [
    "f.close()"
   ]
  },
  {
   "cell_type": "markdown",
   "id": "773cc055",
   "metadata": {},
   "source": [
    "### os module"
   ]
  },
  {
   "cell_type": "code",
   "execution_count": 5,
   "id": "c36f36be",
   "metadata": {},
   "outputs": [],
   "source": [
    "import os"
   ]
  },
  {
   "cell_type": "code",
   "execution_count": 7,
   "id": "6e4d9377",
   "metadata": {},
   "outputs": [
    {
     "data": {
      "text/plain": [
       "'F:\\\\data science\\\\python\\\\udemy\\\\advanced python modules'"
      ]
     },
     "execution_count": 7,
     "metadata": {},
     "output_type": "execute_result"
    }
   ],
   "source": [
    "os.getcwd()"
   ]
  },
  {
   "cell_type": "code",
   "execution_count": 8,
   "id": "c456d96d",
   "metadata": {},
   "outputs": [
    {
     "data": {
      "text/plain": [
       "['.ipynb_checkpoints',\n",
       " 'collection module.ipynb',\n",
       " 'opening and reading files and folders.ipynb',\n",
       " 'practice.txt']"
      ]
     },
     "execution_count": 8,
     "metadata": {},
     "output_type": "execute_result"
    }
   ],
   "source": [
    "os.listdir()"
   ]
  },
  {
   "cell_type": "code",
   "execution_count": 10,
   "id": "3d2365dd",
   "metadata": {},
   "outputs": [
    {
     "data": {
      "text/plain": [
       "['.ipynb_checkpoints',\n",
       " 'advanced python modules',\n",
       " 'decoraters.ipynb',\n",
       " 'errors and exceptional handling',\n",
       " 'generators',\n",
       " 'methods and function',\n",
       " 'milestone project 1',\n",
       " 'modules and packages',\n",
       " 'object oriented programming',\n",
       " 'python basics',\n",
       " 'python statement']"
      ]
     },
     "execution_count": 10,
     "metadata": {},
     "output_type": "execute_result"
    }
   ],
   "source": [
    "os.listdir(\"F:\\\\data science\\\\python\\\\udemy\")"
   ]
  },
  {
   "cell_type": "code",
   "execution_count": 11,
   "id": "b1a3a24a",
   "metadata": {},
   "outputs": [
    {
     "name": "stdout",
     "output_type": "stream",
     "text": [
      ".ipynb_checkpoints\n",
      "advanced python modules\n",
      "decoraters.ipynb\n",
      "errors and exceptional handling\n",
      "generators\n",
      "methods and function\n",
      "milestone project 1\n",
      "modules and packages\n",
      "object oriented programming\n",
      "python basics\n",
      "python statement\n"
     ]
    }
   ],
   "source": [
    "for i in os.listdir(\"F:\\\\data science\\\\python\\\\udemy\"):\n",
    "    print(i)"
   ]
  },
  {
   "cell_type": "code",
   "execution_count": 12,
   "id": "ae758e3f",
   "metadata": {},
   "outputs": [],
   "source": [
    "###  to move"
   ]
  },
  {
   "cell_type": "markdown",
   "id": "4acd223b",
   "metadata": {},
   "source": [
    "### shutil"
   ]
  },
  {
   "cell_type": "code",
   "execution_count": 6,
   "id": "a8d9b518",
   "metadata": {},
   "outputs": [],
   "source": [
    "import shutil"
   ]
  },
  {
   "cell_type": "code",
   "execution_count": 16,
   "id": "5b8b9e49",
   "metadata": {},
   "outputs": [
    {
     "data": {
      "text/plain": [
       "'F:\\\\data science\\\\python\\\\udemy\\\\practice.txt'"
      ]
     },
     "execution_count": 16,
     "metadata": {},
     "output_type": "execute_result"
    }
   ],
   "source": [
    "shutil.move('practice.txt',\"F:\\\\data science\\\\python\\\\udemy\")"
   ]
  },
  {
   "cell_type": "code",
   "execution_count": 17,
   "id": "1bda25b8",
   "metadata": {},
   "outputs": [
    {
     "data": {
      "text/plain": [
       "['.ipynb_checkpoints',\n",
       " 'advanced python modules',\n",
       " 'decoraters.ipynb',\n",
       " 'errors and exceptional handling',\n",
       " 'generators',\n",
       " 'methods and function',\n",
       " 'milestone project 1',\n",
       " 'modules and packages',\n",
       " 'object oriented programming',\n",
       " 'practice.txt',\n",
       " 'python basics',\n",
       " 'python statement']"
      ]
     },
     "execution_count": 17,
     "metadata": {},
     "output_type": "execute_result"
    }
   ],
   "source": [
    "os.listdir(\"F:\\\\data science\\\\python\\\\udemy\")"
   ]
  },
  {
   "cell_type": "code",
   "execution_count": 1,
   "id": "c0f897ff",
   "metadata": {},
   "outputs": [
    {
     "name": "stdout",
     "output_type": "stream",
     "text": [
      "Requirement already satisfied: send2trash in c:\\users\\swetanshu\\anaconda3\\lib\\site-packages (1.5.0)\n",
      "Note: you may need to restart the kernel to use updated packages.\n"
     ]
    }
   ],
   "source": [
    "pip install send2trash"
   ]
  },
  {
   "cell_type": "code",
   "execution_count": 7,
   "id": "6cec3d84",
   "metadata": {},
   "outputs": [],
   "source": [
    "import send2trash"
   ]
  },
  {
   "cell_type": "code",
   "execution_count": 12,
   "id": "c40803ff",
   "metadata": {},
   "outputs": [
    {
     "data": {
      "text/plain": [
       "['.ipynb_checkpoints',\n",
       " 'collection module.ipynb',\n",
       " 'opening and reading files and folders.ipynb',\n",
       " 'practice.txt']"
      ]
     },
     "execution_count": 12,
     "metadata": {},
     "output_type": "execute_result"
    }
   ],
   "source": [
    "os.listdir()"
   ]
  },
  {
   "cell_type": "code",
   "execution_count": 9,
   "id": "951517ef",
   "metadata": {},
   "outputs": [
    {
     "data": {
      "text/plain": [
       "'F:\\\\data science\\\\python\\\\udemy\\\\advanced python modules\\\\practice.txt'"
      ]
     },
     "execution_count": 9,
     "metadata": {},
     "output_type": "execute_result"
    }
   ],
   "source": [
    "shutil.move(\"F:\\\\data science\\\\python\\\\udemy\\\\practice.txt\",\"F:\\\\data science\\\\python\\\\udemy\\\\advanced python modules\")"
   ]
  },
  {
   "cell_type": "code",
   "execution_count": 13,
   "id": "07f999e4",
   "metadata": {},
   "outputs": [],
   "source": [
    "send2trash.send2trash('practice.txt')"
   ]
  },
  {
   "cell_type": "code",
   "execution_count": 14,
   "id": "de29017e",
   "metadata": {},
   "outputs": [
    {
     "data": {
      "text/plain": [
       "['.ipynb_checkpoints',\n",
       " 'collection module.ipynb',\n",
       " 'opening and reading files and folders.ipynb']"
      ]
     },
     "execution_count": 14,
     "metadata": {},
     "output_type": "execute_result"
    }
   ],
   "source": [
    "os.listdir()"
   ]
  },
  {
   "cell_type": "code",
   "execution_count": 15,
   "id": "eb8cb647",
   "metadata": {},
   "outputs": [
    {
     "data": {
      "text/plain": [
       "'F:\\\\data science\\\\python\\\\udemy\\\\advanced python modules'"
      ]
     },
     "execution_count": 15,
     "metadata": {},
     "output_type": "execute_result"
    }
   ],
   "source": [
    "os.getcwd()"
   ]
  },
  {
   "cell_type": "code",
   "execution_count": 23,
   "id": "0dcff809",
   "metadata": {},
   "outputs": [
    {
     "name": "stdout",
     "output_type": "stream",
     "text": [
      "current looking at F:\\data science\\python\\udemy\\advanced python modules\n",
      "\n",
      "\n",
      "the subfolders are:\n",
      "subfolder:.ipynb_checkpoints\n",
      "\n",
      "\n",
      "the files are: \n",
      "\t File :collection module.ipynb\n",
      "\t File :opening and reading files and folders.ipynb\n",
      "\n",
      "\n",
      "current looking at F:\\data science\\python\\udemy\\advanced python modules\\.ipynb_checkpoints\n",
      "\n",
      "\n",
      "the subfolders are:\n",
      "\n",
      "\n",
      "the files are: \n",
      "\t File :collection module-checkpoint.ipynb\n",
      "\t File :opening and reading files and folders-checkpoint.ipynb\n",
      "\n",
      "\n"
     ]
    }
   ],
   "source": [
    "file_path='F:\\\\data science\\\\python\\\\udemy\\\\advanced python modules'\n",
    "for folder,sub_folder,files in os.walk(file_path):\n",
    "    print(f'current looking at {folder}')\n",
    "    print(\"\\n\")\n",
    "    print(\"the subfolders are:\")\n",
    "    for sub_fold in sub_folder:\n",
    "        print(f'subfolder:{sub_fold}')\n",
    "    print(\"\\n\")\n",
    "    print(\"the files are: \")\n",
    "    for f in files:\n",
    "              print(f\"\\t File :{f}\")\n",
    "    print('\\n')"
   ]
  },
  {
   "cell_type": "code",
   "execution_count": 16,
   "id": "d36cad90",
   "metadata": {
    "scrolled": false
   },
   "outputs": [
    {
     "data": {
      "text/plain": [
       "['.ipynb_checkpoints',\n",
       " 'collection module.ipynb',\n",
       " 'opening and reading files and folders.ipynb']"
      ]
     },
     "execution_count": 16,
     "metadata": {},
     "output_type": "execute_result"
    }
   ],
   "source": [
    "os.listdir()"
   ]
  },
  {
   "cell_type": "code",
   "execution_count": null,
   "id": "cfab1661",
   "metadata": {},
   "outputs": [],
   "source": []
  },
  {
   "cell_type": "code",
   "execution_count": null,
   "id": "5f2f2810",
   "metadata": {},
   "outputs": [],
   "source": []
  },
  {
   "cell_type": "code",
   "execution_count": null,
   "id": "822bcdd5",
   "metadata": {},
   "outputs": [],
   "source": []
  }
 ],
 "metadata": {
  "kernelspec": {
   "display_name": "Python 3",
   "language": "python",
   "name": "python3"
  },
  "language_info": {
   "codemirror_mode": {
    "name": "ipython",
    "version": 3
   },
   "file_extension": ".py",
   "mimetype": "text/x-python",
   "name": "python",
   "nbconvert_exporter": "python",
   "pygments_lexer": "ipython3",
   "version": "3.8.8"
  }
 },
 "nbformat": 4,
 "nbformat_minor": 5
}
